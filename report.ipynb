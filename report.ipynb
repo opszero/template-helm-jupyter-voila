{
 "cells": [
  {
   "attachments": {},
   "cell_type": "markdown",
   "metadata": {},
   "source": [
    "# TiphysPy by opsZero\n",
    "\n",
    "[Example](https://github.com/opszero/tiphyspy/blob/main/report.ipynb) for [TiphysPy](https://github.com/opszero/tiphyspy)\n",
    "\n",
    "- Deployed onto Kubernetes\n",
    "- Jupyter + Voila\n",
    "- Flask\n"
   ]
  },
  {
   "cell_type": "code",
   "execution_count": 6,
   "metadata": {},
   "outputs": [
    {
     "name": "stdout",
     "output_type": "stream",
     "text": [
      "From Rust: 3\n"
     ]
    }
   ],
   "source": [
    "from matplotlib import rcParams, cycler\n",
    "import matplotlib.pyplot as plt\n",
    "import numpy as np\n",
    "plt.ion()\n",
    "\n",
    "import opszero_rustypy\n",
    "print(\"Calling a Rust Library:\", opszero_rustypy.sum_as_string(1, 2))"
   ]
  },
  {
   "cell_type": "code",
   "execution_count": null,
   "metadata": {},
   "outputs": [],
   "source": [
    "# Fixing random state for reproducibility\n",
    "np.random.seed(19680801)\n",
    "\n",
    "N = 10\n",
    "data = [np.logspace(0, 1, 100) + np.random.randn(100) + ii for ii in range(N)]\n",
    "data = np.array(data).T\n",
    "cmap = plt.cm.coolwarm\n",
    "rcParams['axes.prop_cycle'] = cycler(color=cmap(np.linspace(0, 1, N)))\n",
    "\n",
    "\n",
    "from matplotlib.lines import Line2D\n",
    "custom_lines = [Line2D([0], [0], color=cmap(0.), lw=4),\n",
    "                Line2D([0], [0], color=cmap(.5), lw=4),\n",
    "                Line2D([0], [0], color=cmap(1.), lw=4)]\n",
    "\n",
    "fig, ax = plt.subplots(figsize=(10, 5))\n",
    "lines = ax.plot(data)\n",
    "ax.legend(custom_lines, ['Cold', 'Medium', 'Hot']);"
   ]
  },
  {
   "cell_type": "code",
   "execution_count": 3,
   "metadata": {},
   "outputs": [
    {
     "data": {
      "application/vnd.jupyter.widget-view+json": {
       "model_id": "315c2969ea24408c962c3066a201a4b2",
       "version_major": 2,
       "version_minor": 0
      },
      "text/plain": [
       "VBox(children=(FloatSlider(value=4.0, description='$x$'), FloatText(value=16.0, description='$x^2$', disabled=…"
      ]
     },
     "metadata": {},
     "output_type": "display_data"
    }
   ],
   "source": [
    "import ipywidgets as widgets\n",
    "\n",
    "slider = widgets.FloatSlider(description='$x$')\n",
    "text = widgets.FloatText(disabled=True, description='$x^2$')\n",
    "\n",
    "def compute(*ignore):\n",
    "    text.value = str(slider.value ** 2)\n",
    "\n",
    "slider.observe(compute, 'value')\n",
    "\n",
    "slider.value = 4\n",
    "\n",
    "widgets.VBox([slider, text])"
   ]
  },
  {
   "cell_type": "code",
   "execution_count": 2,
   "metadata": {},
   "outputs": [
    {
     "name": "stderr",
     "output_type": "stream",
     "text": [
      "/Users/abhi/.pyenv/versions/3.11.0/lib/python3.11/site-packages/ipydatagrid/datagrid.py:444: UserWarning: Index name of 'index' is not round-trippable.\n",
      "  schema = pd.io.json.build_table_schema(dataframe)\n"
     ]
    },
    {
     "data": {
      "application/vnd.jupyter.widget-view+json": {
       "model_id": "22e4e7be75db4a75bcb2d6514a23bd0a",
       "version_major": 2,
       "version_minor": 0
      },
      "text/plain": [
       "DataGrid(auto_fit_params={'area': 'all', 'padding': 30, 'numCols': None}, base_column_size=150, base_row_size=…"
      ]
     },
     "metadata": {},
     "output_type": "display_data"
    }
   ],
   "source": [
    "from ipydatagrid import DataGrid, TextRenderer, BarRenderer, Expr\n",
    "from json import load\n",
    "import pandas as pd\n",
    "\n",
    "with open(\"./cars.json\") as fobj:\n",
    "    data = load(fobj)\n",
    "df = pd.DataFrame(data[\"data\"]).set_index(\"index\")\n",
    "df = df[sorted(df.columns)]\n",
    "\n",
    "\n",
    "from bqplot import LinearScale, ColorScale, OrdinalColorScale, OrdinalScale\n",
    "from py2vega.functions.color import rgb\n",
    "\n",
    "\n",
    "def horsepower_coloring(cell):\n",
    "    if cell.value < 100:\n",
    "        return \"red\"\n",
    "    elif cell.value < 150:\n",
    "        return \"orange\"\n",
    "    else:\n",
    "        return \"green\"\n",
    "\n",
    "\n",
    "def weight_coloring(cell):\n",
    "    scaled_value = 1 if cell.value > 4500 else cell.value / 4500\n",
    "    color_value = scaled_value * 255\n",
    "\n",
    "    return rgb(color_value, 0, 0)\n",
    "\n",
    "\n",
    "renderers = {\n",
    "    \"Acceleration\": BarRenderer(\n",
    "        horizontal_alignment=\"center\",\n",
    "        bar_color=ColorScale(min=0, max=20, scheme=\"viridis\"),\n",
    "        bar_value=LinearScale(min=0, max=20),\n",
    "    ),\n",
    "    \"Cylinders\": TextRenderer(\n",
    "        background_color=Expr('\"grey\" if cell.row % 2 else default_value')\n",
    "    ),\n",
    "    \"Displacement\": TextRenderer(\n",
    "        text_color=ColorScale(min=97, max=455),\n",
    "        font=Expr(\n",
    "            \"'16px sans-serif' if cell.value > 400 else '12px sans-serif'\"\n",
    "        ),\n",
    "    ),\n",
    "    \"Horsepower\": TextRenderer(\n",
    "        text_color=\"black\", background_color=Expr(horsepower_coloring)\n",
    "    ),\n",
    "    \"Miles_per_Gallon\": TextRenderer(\n",
    "        background_color=Expr('\"grey\" if cell.value is None else default_value')\n",
    "    ),\n",
    "    \"Name\": TextRenderer(\n",
    "        background_color=Expr(\n",
    "            'rgb(0, 100, 255) if \"chevrolet\" in cell.value or \"ford\" in cell.value else default_value'\n",
    "        )\n",
    "    ),\n",
    "    \"Origin\": TextRenderer(\n",
    "        text_color=\"black\",\n",
    "        background_color=OrdinalColorScale(domain=[\"USA\", \"Japan\", \"Europe\"]),\n",
    "        horizontal_alignment=Expr(\n",
    "            \"'right' if cell.value in ['USA', 'Japan'] else 'left'\"\n",
    "        ),\n",
    "    ),\n",
    "    \"Weight_in_lbs\": TextRenderer(\n",
    "        text_color=\"black\", background_color=Expr(weight_coloring)\n",
    "    ),\n",
    "    \"Year\": TextRenderer(text_color=\"black\", background_color=\"green\"),\n",
    "}\n",
    "\n",
    "datagrid = DataGrid(\n",
    "    df, base_row_size=32, base_column_size=150, renderers=renderers\n",
    ")\n",
    "datagrid"
   ]
  },
  {
   "attachments": {},
   "cell_type": "markdown",
   "metadata": {},
   "source": [
    "# Pro Support\n",
    "\n",
    "<a href=\"https://www.opszero.com\"><img src=\"https://assets.opszero.com/images/opszero_11_29_2016.png\" width=\"300px\"/></a>\n",
    "\n",
    "[opsZero provides support](https://www.opszero.com/devops) including:\n",
    "\n",
    "- Kubernetes Deployment\n",
    "- Implementation Guidance\n",
    "- Security Posture\n"
   ]
  }
 ],
 "metadata": {
  "kernelspec": {
   "display_name": "Python 3",
   "language": "python",
   "name": "python3"
  },
  "language_info": {
   "codemirror_mode": {
    "name": "ipython",
    "version": 3
   },
   "file_extension": ".py",
   "mimetype": "text/x-python",
   "name": "python",
   "nbconvert_exporter": "python",
   "pygments_lexer": "ipython3",
   "version": "3.11.0"
  },
  "vscode": {
   "interpreter": {
    "hash": "04e9afd6681d709888c7fa65df3e6bee033ab0af9347f0482b1f4dba28ffd394"
   }
  },
  "widgets": {
   "application/vnd.jupyter.widget-state+json": {
    "state": {},
    "version_major": 2,
    "version_minor": 0
   }
  }
 },
 "nbformat": 4,
 "nbformat_minor": 4
}
